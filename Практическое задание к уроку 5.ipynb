{
 "cells": [
  {
   "cell_type": "code",
   "execution_count": 1,
   "metadata": {},
   "outputs": [],
   "source": [
    "import numpy as np\n",
    "import numpy.linalg\n",
    "import matplotlib.pyplot as plt\n",
    "%matplotlib inline\n",
    "\n",
    "import warnings\n",
    "warnings.filterwarnings('ignore') # отключем предупреждения итоговой работе\n"
   ]
  },
  {
   "cell_type": "markdown",
   "metadata": {},
   "source": [
    "#### Практическое задание №5"
   ]
  },
  {
   "cell_type": "markdown",
   "metadata": {},
   "source": [
    "##### 5.1. Вектор – это частный случай матрицы 1хN и Nх1. Повторите материал для векторов, уделяя особое внимание умножению A∙B. Вычислите, по возможности не используя программирование: (5Е)–1, где Е – единичная матрица размера 5х5.\n"
   ]
  },
  {
   "cell_type": "markdown",
   "metadata": {},
   "source": [
    "\\begin{equation}\n",
    "5 \\cdot\n",
    "\\begin{vmatrix} \n",
    "1 & 0 & 0 & 0 & 0\\\\\n",
    "0 & 1 & 0 & 0 & 0\\\\\n",
    "0 & 0 & 1 & 0 & 0\\\\\n",
    "0 & 0 & 0 & 1 & 0\\\\\n",
    "0 & 0 & 0 & 0 & 1\\\\\n",
    "\\end{vmatrix}\n",
    "- 1 = \n",
    "\\begin{vmatrix} \n",
    "5 & 0 & 0 & 0 & 0\\\\\n",
    "0 & 5 & 0 & 0 & 0\\\\\n",
    "0 & 0 & 5 & 0 & 0\\\\\n",
    "0 & 0 & 0 & 5 & 0\\\\\n",
    "0 & 0 & 0 & 0 & 5\\\\\n",
    "\\end{vmatrix}\n",
    "-1 =\n",
    "\\begin{vmatrix} \n",
    "4 & 0 & 0 & 0 & 0\\\\\n",
    "0 & 4 & 0 & 0 & 0\\\\\n",
    "0 & 0 & 4 & 0 & 0\\\\\n",
    "0 & 0 & 0 & 4 & 0\\\\\n",
    "0 & 0 & 0 & 0 & 4\\\\\n",
    "\\end{vmatrix}\n",
    "\\end{equation} "
   ]
  },
  {
   "cell_type": "markdown",
   "metadata": {},
   "source": [
    "##### 5.2. Вычислите определитель:\n",
    "\\begin{equation}\n",
    "\\begin{vmatrix} \n",
    "1 & 2 & 3 \\\\\n",
    "4 & 0 & 6 \\\\\n",
    "7 & 8 & 9 \\\\\n",
    "\\end{vmatrix}\n",
    "\\end{equation} "
   ]
  },
  {
   "cell_type": "markdown",
   "metadata": {},
   "source": [
    "Расчет вручную: \n",
    "\\begin{equation}\n",
    "\\begin{vmatrix} \n",
    "1 & 2 & 3 \\\\\n",
    "4 & 0 & 6 \\\\\n",
    "7 & 8 & 9 \\\\\n",
    "\\end{vmatrix} = 1 \\cdot 0 \\cdot 9 - 1 \\cdot 6 \\cdot 8 - 2 \\cdot 4 \\cdot 9 + 2 \\cdot 6 \\cdot 7 + 3 \\cdot 4 \\cdot 8 - 3 \\cdot 0 \\cdot 7 = 0 - 48 - 72 + 84 + 96 - 0 = 60\n",
    "\\end{equation} "
   ]
  },
  {
   "cell_type": "code",
   "execution_count": 2,
   "metadata": {},
   "outputs": [
    {
     "name": "stdout",
     "output_type": "stream",
     "text": [
      "Опеределитель матрицы численным метолом А = 59.999999999999986\n"
     ]
    }
   ],
   "source": [
    "A = [\n",
    "    [1, 2, 3], \n",
    "    [4, 0, 6],\n",
    "    [7, 8, 9]\n",
    "]\n",
    "print(f'Опеределитель матрицы численным метолом А = {np.linalg.det(A)}')"
   ]
  },
  {
   "cell_type": "markdown",
   "metadata": {},
   "source": [
    "##### 5.3.\n",
    "##### 1. Вычислите матрицу, обратную данной:\n",
    "\\begin{equation}\n",
    "\\begin{vmatrix} \n",
    "1 & 2 & 3 \\\\\n",
    "4 & 0 & 6 \\\\\n",
    "7 & 8 & 9 \\\\\n",
    "\\end{vmatrix}\n",
    "\\end{equation} "
   ]
  },
  {
   "cell_type": "markdown",
   "metadata": {},
   "source": [
    "Определитель равен 60. Вычислим алгебраические дополнения:\n",
    "\\begin{equation}\n",
    "A_{11} = (-1)^{1+1} \\cdot\n",
    "\\begin{vmatrix} \n",
    "0 & 6 \\\\\n",
    "8 & 9 \\\\\n",
    "\\end{vmatrix} = 0 - 48 = -48\n",
    "\\end{equation} "
   ]
  },
  {
   "cell_type": "markdown",
   "metadata": {},
   "source": [
    "\\begin{equation}\n",
    " A_{12} = (-1)^{1+2} \\cdot\n",
    "\\begin{vmatrix} \n",
    "4 & 6 \\\\\n",
    "7 & 9 \\\\\n",
    "\\end{vmatrix} = (-1)  \\cdot (36 - 42) = 6\n",
    "\\end{equation} \n"
   ]
  },
  {
   "cell_type": "markdown",
   "metadata": {},
   "source": [
    "\\begin{equation}\n",
    " A_{13} = (-1)^{1+3} \\cdot\n",
    "\\begin{vmatrix} \n",
    "4 & 0 \\\\\n",
    "7 & 8 \\\\\n",
    "\\end{vmatrix} = 32 - 0 = 32\n",
    "\\end{equation} \n"
   ]
  },
  {
   "cell_type": "markdown",
   "metadata": {},
   "source": [
    "\\begin{equation}\n",
    " A_{21} = (-1)^{2+1} \\cdot\n",
    "\\begin{vmatrix} \n",
    "2 & 3 \\\\\n",
    "8 & 9 \\\\\n",
    "\\end{vmatrix} = (-1) \\cdot (18 - 24) = 6\n",
    "\\end{equation} "
   ]
  },
  {
   "cell_type": "markdown",
   "metadata": {},
   "source": [
    "\\begin{equation}\n",
    " A_{22} = (-1)^{2+2} \\cdot\n",
    "\\begin{vmatrix} \n",
    "1 & 3 \\\\\n",
    "7 & 9 \\\\\n",
    "\\end{vmatrix} = 9 - 21 = -12\n",
    "\\end{equation} "
   ]
  },
  {
   "cell_type": "markdown",
   "metadata": {},
   "source": [
    "\\begin{equation}\n",
    " A_{23} = (-1)^{2+3} \\cdot\n",
    "\\begin{vmatrix} \n",
    "1 & 2 \\\\\n",
    "7 & 8 \\\\\n",
    "\\end{vmatrix} = (-1) \\cdot 8 - 14 = 6\n",
    "\\end{equation} "
   ]
  },
  {
   "cell_type": "markdown",
   "metadata": {},
   "source": [
    "\\begin{equation}\n",
    "A_{31} = (-1)^{3+1} \\cdot\n",
    "\\begin{vmatrix} \n",
    "2 & 3 \\\\\n",
    "0 & 6 \\\\\n",
    "\\end{vmatrix} = 12 - 0 = 12\n",
    "\\end{equation} "
   ]
  },
  {
   "cell_type": "markdown",
   "metadata": {},
   "source": [
    "\\begin{equation}\n",
    "A_{32} = (-1)^{3+2} \\cdot\n",
    "\\begin{vmatrix} \n",
    "1 & 3 \\\\\n",
    "4 & 6 \\\\\n",
    "\\end{vmatrix} = (-1) \\cdot (6 - 12) = 6\n",
    "\\end{equation} "
   ]
  },
  {
   "cell_type": "markdown",
   "metadata": {},
   "source": [
    "\\begin{equation}\n",
    "A_{33} = (-1)^{3+3} \\cdot\n",
    "\\begin{vmatrix} \n",
    "1 & 2 \\\\\n",
    "4 & 0 \\\\\n",
    "\\end{vmatrix} = 0 - 8 = -8\n",
    "\\end{equation} "
   ]
  },
  {
   "cell_type": "markdown",
   "metadata": {},
   "source": [
    "\\begin{equation}\n",
    "A^{*} = \n",
    "\\begin{vmatrix} \n",
    "-48 & 6 & 32 \\\\\n",
    "6 & -12 & 6 \\\\\n",
    "12 & 6 & -8 \\\\\n",
    "\\end{vmatrix} \n",
    "\\end{equation} "
   ]
  },
  {
   "cell_type": "markdown",
   "metadata": {},
   "source": [
    "\\begin{equation}\n",
    "A^{-1} = \\frac{1}{detA} \\cdot (A^{*})^T\n",
    "\\end{equation} "
   ]
  },
  {
   "cell_type": "markdown",
   "metadata": {},
   "source": [
    "\\begin{equation}\n",
    "A^{-1} = \\frac{1}{60} \\cdot \n",
    "\\begin{vmatrix} \n",
    "-48 & 6 & 12 \\\\\n",
    "6 & -12 & 6 \\\\\n",
    "32 & 6 & -8 \\\\\n",
    "\\end{vmatrix}  = \n",
    "\\begin{vmatrix} \n",
    "-\\frac{4}{5} & \\frac{1}{10} & \\frac{1}{5} \\\\\n",
    "\\frac{1}{10} & -\\frac{1}{5} & \\frac{1}{10} \\\\\n",
    "\\frac{8}{15} & \\frac{1}{5} & -\\frac{2}{15} \\\\\n",
    "\\end{vmatrix}\n",
    "\\end{equation} "
   ]
  },
  {
   "cell_type": "code",
   "execution_count": 3,
   "metadata": {},
   "outputs": [
    {
     "name": "stdout",
     "output_type": "stream",
     "text": [
      "[[-0.8         0.1         0.2       ]\n",
      " [ 0.1        -0.2         0.1       ]\n",
      " [ 0.53333333  0.1        -0.13333333]]\n"
     ]
    }
   ],
   "source": [
    "A = [\n",
    "    [1, 2, 3], \n",
    "    [4, 0, 6],\n",
    "    [7, 8, 9]\n",
    "]\n",
    "print(np.linalg.inv(A))"
   ]
  },
  {
   "cell_type": "markdown",
   "metadata": {},
   "source": [
    "#####  2. Приведите пример матрицы 4х4, ранг которой равен 1.\n"
   ]
  },
  {
   "cell_type": "code",
   "execution_count": 4,
   "metadata": {},
   "outputs": [
    {
     "data": {
      "text/plain": [
       "1"
      ]
     },
     "execution_count": 4,
     "metadata": {},
     "output_type": "execute_result"
    }
   ],
   "source": [
    "A = [\n",
    "    [1, 1, 1, 1], \n",
    "    [4, 4, 4, 4],\n",
    "    [100, 100, 100, 100],\n",
    "    [-100, -100, -100, -100],\n",
    "]\n",
    "np.linalg.matrix_rank(A)"
   ]
  },
  {
   "cell_type": "markdown",
   "metadata": {},
   "source": [
    "##### 5.4. Вычислите скалярное произведение двух векторов:\n",
    "(1, 5) и (2, 8)\n",
    "\\begin{equation}\n",
    "\\begin{vmatrix} \n",
    "1 & 5 \\\\\n",
    "\\end{vmatrix} \\cdot\n",
    "\\begin{vmatrix} \n",
    "2 & 8 \\\\\n",
    "\\end{vmatrix}  = 1 \\cdot 2 + 5 \\cdot 8 = 2 + 40 = 42\n",
    "\\end{equation} "
   ]
  },
  {
   "cell_type": "code",
   "execution_count": 5,
   "metadata": {},
   "outputs": [
    {
     "data": {
      "text/plain": [
       "42"
      ]
     },
     "execution_count": 5,
     "metadata": {},
     "output_type": "execute_result"
    }
   ],
   "source": [
    "np.dot([1,5], [2,8])"
   ]
  },
  {
   "cell_type": "markdown",
   "metadata": {},
   "source": [
    "##### 5.5 Вычислите смешанное произведение трех векторов:\n",
    "(1, 5, 0), (2, 8, 7) и (7, 1.5, 3)\n"
   ]
  },
  {
   "cell_type": "markdown",
   "metadata": {},
   "source": [
    "\\begin{equation}\n",
    "\\begin{vmatrix} \n",
    "1 & 5 & 0 \\\\\n",
    "\\end{vmatrix} \\cdot\n",
    "(\n",
    "\\begin{vmatrix} \n",
    "2 & 8 & 7 \\\\\n",
    "\\end{vmatrix}\n",
    "\\times\n",
    "\\begin{vmatrix} \n",
    "7 & 1.5 & 3 \\\\\n",
    "\\end{vmatrix}\n",
    ") = \\begin{vmatrix} \n",
    "1 & 5 & 0 \\\\\n",
    "\\end{vmatrix} \\cdot\n",
    "\\begin{vmatrix} \n",
    "8\\cdot3-7\\cdot1.5 & 7\\cdot7 - 2\\cdot3& 2\\cdot1.5 - 7\\cdot8 \\\\\n",
    "\\end{vmatrix} = \n",
    "\\begin{vmatrix} \n",
    "1 & 5 & 0 \\\\\n",
    "\\end{vmatrix} \\cdot\n",
    "\\begin{vmatrix} \n",
    "13.5 & 43 & -53 \\\\\n",
    "\\end{vmatrix} = 1\\cdot13.5+ 5\\cdot43 + 0\\cdot(-53) = 228.5\n",
    "\\end{equation} "
   ]
  },
  {
   "cell_type": "code",
   "execution_count": 6,
   "metadata": {},
   "outputs": [
    {
     "data": {
      "text/plain": [
       "228.5"
      ]
     },
     "execution_count": 6,
     "metadata": {},
     "output_type": "execute_result"
    }
   ],
   "source": [
    "np.dot([1,5,0], np.cross([2,8,7],[7, 1.5, 3],axis=0))"
   ]
  },
  {
   "cell_type": "markdown",
   "metadata": {},
   "source": [
    "#### Практическое задание №6"
   ]
  },
  {
   "cell_type": "markdown",
   "metadata": {},
   "source": [
    "##### 6.1. Решите линейную систему:\n",
    "\\begin{equation}\n",
    "\\begin{vmatrix} \n",
    "1 & 2 & 3 \\\\\n",
    "4 & 0 & 6 \\\\\n",
    "7 & 8 & 9 \\\\\n",
    "\\end{vmatrix}\n",
    " \\cdot X = \n",
    "\\begin{vmatrix} \n",
    "12\\\\\n",
    "2\\\\\n",
    "1\\\\\n",
    "\\end{vmatrix} \n",
    "\\end{equation}"
   ]
  },
  {
   "cell_type": "code",
   "execution_count": 7,
   "metadata": {},
   "outputs": [
    {
     "data": {
      "text/plain": [
       "array([-9.2       ,  0.9       ,  6.46666667])"
      ]
     },
     "execution_count": 7,
     "metadata": {},
     "output_type": "execute_result"
    }
   ],
   "source": [
    "A = [\n",
    "    [1, 2, 3], \n",
    "    [4, 0, 6],\n",
    "    [7, 8, 9]\n",
    "]\n",
    "B = [\n",
    "    12, 2, 1\n",
    "]\n",
    "np.linalg.solve(A,B)"
   ]
  },
  {
   "cell_type": "markdown",
   "metadata": {},
   "source": [
    "##### 6.2. Найдите псевдорешение:\n",
    "\\begin{equation}\n",
    "\\\\ x + 2y – z = 1\n",
    "\\\\ 3x – 4y = 7\n",
    "\\\\ 8x – 5y + 2z = 12\n",
    "\\\\ 2x – 5z = 7\n",
    "\\\\ 11x +4y – 7z = 15\n",
    "\\end{equation}"
   ]
  },
  {
   "cell_type": "code",
   "execution_count": 8,
   "metadata": {},
   "outputs": [
    {
     "data": {
      "text/plain": [
       "(array([ 1.41675177, -0.07591672, -0.2282347 ]),\n",
       " array([22.79876553]),\n",
       " 3,\n",
       " array([15.46246938,  8.85765904,  4.63183733]))"
      ]
     },
     "execution_count": 8,
     "metadata": {},
     "output_type": "execute_result"
    }
   ],
   "source": [
    "A = [\n",
    "    [1, 2, -1], \n",
    "    [3, 4, 0],\n",
    "    [8, -5, 2],\n",
    "    [2, 0, -5],\n",
    "    [11, 4, -7],\n",
    "]\n",
    "B = [\n",
    "    1, 7, 12, 7, 15\n",
    "]\n",
    "\n",
    "np.linalg.lstsq(A,B)"
   ]
  },
  {
   "cell_type": "markdown",
   "metadata": {},
   "source": [
    "##### 6.3. Сколько решений имеет линейная система\n",
    "\\begin{equation}\n",
    "\\begin{vmatrix} \n",
    "1 & 2 & 3 \\\\\n",
    "4 & 5 & 6 \\\\\n",
    "7 & 8 & 9 \\\\\n",
    "\\end{vmatrix}\n",
    " \\cdot X = \n",
    "\\begin{vmatrix} \n",
    "12\\\\\n",
    "2\\\\\n",
    "1\\\\\n",
    "\\end{vmatrix} \n",
    "\\end{equation}"
   ]
  },
  {
   "cell_type": "code",
   "execution_count": 9,
   "metadata": {},
   "outputs": [
    {
     "name": "stdout",
     "output_type": "stream",
     "text": [
      "Ранг матрица А 2\n",
      "Ранг матрица C 3\n"
     ]
    }
   ],
   "source": [
    "A = np.array([\n",
    "    [1, 2, 3], \n",
    "    [4, 5, 6],\n",
    "    [7, 8, 9]\n",
    "])\n",
    "B = np.array([\n",
    "    [12, 2, 1]\n",
    "])\n",
    "C = np.concatenate((A,B.T), axis = 1)\n",
    "print(f'Ранг матрица А {np.linalg.matrix_rank(A)}')\n",
    "print(f'Ранг матрица C {np.linalg.matrix_rank(C)}')"
   ]
  },
  {
   "cell_type": "markdown",
   "metadata": {},
   "source": [
    "Т.к. ранг расширенной матрицы больше исходной матрицы, то система не имеет решений."
   ]
  },
  {
   "cell_type": "code",
   "execution_count": 10,
   "metadata": {},
   "outputs": [
    {
     "name": "stdout",
     "output_type": "stream",
     "text": [
      "Ранг матрица А 3\n",
      "Ранг матрица C 3\n",
      "Решение измененной матрицы: \n",
      " [[-9.2       ]\n",
      " [ 0.9       ]\n",
      " [ 6.46666667]]\n"
     ]
    }
   ],
   "source": [
    "A = np.array([\n",
    "    [1, 2, 3], \n",
    "    [4, 0, 6],\n",
    "    [7, 8, 9]\n",
    "])\n",
    "B = np.array([\n",
    "    [12, 2, 1]\n",
    "])\n",
    "C = np.concatenate((A,B.T), axis = 1)\n",
    "print(f'Ранг матрица А {np.linalg.matrix_rank(A)}')\n",
    "print(f'Ранг матрица C {np.linalg.matrix_rank(C)}')\n",
    "print(f'Решение измененной матрицы: \\n {np.linalg.solve(A,B.T)}')"
   ]
  },
  {
   "cell_type": "markdown",
   "metadata": {},
   "source": [
    "##### 6.4. Вычислите LU-разложение матрицы:\n",
    "\\begin{equation}\n",
    "\\begin{vmatrix} \n",
    "1 & 2 & 3 \\\\\n",
    "2 & 16 & 21 \\\\\n",
    "4 & 28 & 73 \\\\\n",
    "\\end{vmatrix}\n",
    "\\end{equation}\n",
    "\n",
    "После этого придумайте вектор правых частей и решите полученную линейную систему трех\n",
    "уравнений с данной матрицей"
   ]
  },
  {
   "cell_type": "code",
   "execution_count": 11,
   "metadata": {},
   "outputs": [
    {
     "name": "stdout",
     "output_type": "stream",
     "text": [
      "detA = 432.00000000000017\n",
      "P=[[0. 1. 0.]\n",
      " [0. 0. 1.]\n",
      " [1. 0. 0.]]\n",
      "L=[[ 1.    0.    0.  ]\n",
      " [ 0.25  1.    0.  ]\n",
      " [ 0.5  -0.4   1.  ]]\n",
      "U=[[  4.    28.    73.  ]\n",
      " [  0.    -5.   -15.25]\n",
      " [  0.     0.   -21.6 ]]\n",
      "[[0. 0. 0.]\n",
      " [0. 0. 0.]\n",
      " [0. 0. 0.]]\n",
      "[[0. 0. 0.]\n",
      " [0. 0. 0.]\n",
      " [0. 0. 0.]]\n"
     ]
    }
   ],
   "source": [
    "import scipy.linalg \n",
    "A = np.array([\n",
    "    [1, 2, 3],\n",
    "    [2, 16, 21],\n",
    "    [4, 28, 73]\n",
    "])\n",
    "print(f'detA = {np.linalg.det(A)}')\n",
    "P, L, U = scipy.linalg.lu(A)\n",
    "print(f'P={P}')\n",
    "print(f'L={L}')\n",
    "print(f'U={U}')\n",
    "\n",
    "print(A - np.dot(P,np.dot(L, U)))\n",
    "print(np.dot(np.linalg.inv(P), A) - np.dot(L, U))"
   ]
  },
  {
   "cell_type": "code",
   "execution_count": 12,
   "metadata": {},
   "outputs": [
    {
     "name": "stdout",
     "output_type": "stream",
     "text": [
      "Ранг матрица А 3\n",
      "Ранг матрица C 3\n",
      "Решение измененной матрицы: \n",
      " [[15.81018519]\n",
      " [-1.47453704]\n",
      " [-0.28703704]]\n"
     ]
    }
   ],
   "source": [
    "A = np.array([\n",
    "    [1, 2, 3],\n",
    "    [2, 16, 21],\n",
    "    [4, 28, 73]\n",
    "])\n",
    "B = np.array([\n",
    "    [12, 2, 1]\n",
    "])\n",
    "C = np.concatenate((A,B.T), axis = 1)\n",
    "print(f'Ранг матрица А {np.linalg.matrix_rank(A)}')\n",
    "print(f'Ранг матрица C {np.linalg.matrix_rank(C)}')\n",
    "print(f'Решение измененной матрицы: \\n {np.linalg.solve(A,B.T)}')"
   ]
  },
  {
   "cell_type": "code",
   "execution_count": 13,
   "metadata": {},
   "outputs": [
    {
     "data": {
      "text/plain": [
       "array([[15.81018519],\n",
       "       [-1.47453704],\n",
       "       [-0.28703704]])"
      ]
     },
     "execution_count": 13,
     "metadata": {},
     "output_type": "execute_result"
    }
   ],
   "source": [
    "A_ = np.dot(L, U)\n",
    "np.linalg.solve(A_, np.dot(np.linalg.inv(P),B.T))"
   ]
  },
  {
   "cell_type": "code",
   "execution_count": 14,
   "metadata": {},
   "outputs": [
    {
     "data": {
      "text/plain": [
       "array([[15.81018519],\n",
       "       [-1.47453704],\n",
       "       [-0.28703704]])"
      ]
     },
     "execution_count": 14,
     "metadata": {},
     "output_type": "execute_result"
    }
   ],
   "source": [
    "scipy.linalg.lu_solve(scipy.linalg.lu_factor(A), B.T)"
   ]
  },
  {
   "cell_type": "markdown",
   "metadata": {},
   "source": [
    "##### 6.5. Найдите нормальное псевдорешение недоопределенной системы:\n",
    "\\begin{equation}\n",
    "\\\\x + 2y – z = 1\n",
    "\\\\8x – 5y + 2z = 12\n",
    "\\end{equation}\n",
    "Для этого определите функцию Q(x,y,z), равную норме решения, и найдите ее минимум.\n"
   ]
  },
  {
   "cell_type": "code",
   "execution_count": 15,
   "metadata": {},
   "outputs": [
    {
     "name": "stdout",
     "output_type": "stream",
     "text": [
      "Ранг матрица А 2\n",
      "Ранг матрица C 2\n"
     ]
    },
    {
     "data": {
      "text/plain": [
       "(array([[ 1.38191882],\n",
       "        [-0.18081181],\n",
       "        [ 0.0202952 ]]),\n",
       " array([], dtype=float64),\n",
       " 2,\n",
       " array([9.65316119, 2.41173777]))"
      ]
     },
     "execution_count": 15,
     "metadata": {},
     "output_type": "execute_result"
    }
   ],
   "source": [
    "\n",
    "A = np.array([\n",
    "    [1, 2, -1],\n",
    "    [8, -5, 2]\n",
    "])\n",
    "B = np.array([\n",
    "    [1, 12]\n",
    "])\n",
    "C = np.concatenate((A,B.T), axis = 1)\n",
    "print(f'Ранг матрица А {np.linalg.matrix_rank(A)}')\n",
    "print(f'Ранг матрица C {np.linalg.matrix_rank(C)}')\n",
    "np.linalg.lstsq(A, B.T)"
   ]
  },
  {
   "cell_type": "code",
   "execution_count": 16,
   "metadata": {},
   "outputs": [],
   "source": [
    "def Z_f(x,y):\n",
    "    return x + 2 * y - 1\n",
    "\n",
    "def Y_f(x):\n",
    "    return 10 * x - 14\n",
    "\n",
    "def Q(x,y,z):\n",
    "    return x**2 + y**2 + z ** 2\n",
    "\n",
    "def Qs(x): \n",
    "    y = Y_f(x)\n",
    "    z = Z_f(x,y)\n",
    "    return Q(x,y,z)"
   ]
  },
  {
   "cell_type": "code",
   "execution_count": 17,
   "metadata": {},
   "outputs": [
    {
     "name": "stdout",
     "output_type": "stream",
     "text": [
      "Минимум нормы Qs в точке (1.3819375, -0.180625, 0.0206875)\n"
     ]
    }
   ],
   "source": [
    "from scipy.optimize import minimize\n",
    "res = minimize(Qs, (0),  method='nelder-mead')\n",
    "x = res.x[0]\n",
    "y = Y_f(x)\n",
    "z = Z_f(x,y)\n",
    "print(f'Минимум нормы Qs в точке ({x:.8}, {y:.8}, {z:.8})')"
   ]
  },
  {
   "cell_type": "code",
   "execution_count": 18,
   "metadata": {},
   "outputs": [
    {
     "data": {
      "text/plain": [
       "Text(0, 0.5, 'Qs')"
      ]
     },
     "execution_count": 18,
     "metadata": {},
     "output_type": "execute_result"
    },
    {
     "data": {
      "image/png": "[encoded data removed]",
      "text/plain": [
       "<Figure size 432x288 with 1 Axes>"
      ]
     },
     "metadata": {
      "needs_background": "light"
     },
     "output_type": "display_data"
    }
   ],
   "source": [
    "x = np.linspace(0, 2.8, 100)\n",
    "plt.plot(x, Qs(x))\n",
    "plt.scatter(1.3819375, Qs(1.3819375), color='red')\n",
    "plt.xlabel('x')\n",
    "plt.ylabel('Qs')"
   ]
  },
  {
   "cell_type": "markdown",
   "metadata": {},
   "source": [
    "##### 6.6. Найдите одно из псевдорешений вырожденной системы:\n",
    "\n",
    "\\begin{equation}\n",
    "\\begin{vmatrix} \n",
    "1 & 2 & 3 \\\\\n",
    "4 & 5 & 6 \\\\\n",
    "7 & 8 & 9 \\\\\n",
    "\\end{vmatrix}\n",
    "\\cdot X = \n",
    "\\begin{vmatrix} \n",
    "2 \\\\\n",
    "5 \\\\\n",
    "11 \\\\\n",
    "\\end{vmatrix}\n",
    "\\end{equation} "
   ]
  },
  {
   "cell_type": "code",
   "execution_count": 19,
   "metadata": {},
   "outputs": [
    {
     "name": "stdout",
     "output_type": "stream",
     "text": [
      "Ранг матрица А 2, опрелелитель равен -9.51619735392994e-16\n",
      "Ранг матрица C 3\n"
     ]
    }
   ],
   "source": [
    "A = np.array([\n",
    "    [1, 2, 3],\n",
    "    [4, 5, 6],\n",
    "    [7, 8, 9]\n",
    "]\n",
    ")\n",
    "\n",
    "B = np.array([ \n",
    "    [2],\n",
    "    [5],\n",
    "    [11]\n",
    "]\n",
    ")\n",
    "C = np.concatenate((A,B), axis = 1)\n",
    "print(f'Ранг матрица А {np.linalg.matrix_rank(A)}, опрелелитель равен {np.linalg.det(A)}')\n",
    "print(f'Ранг матрица C {np.linalg.matrix_rank(C)}')"
   ]
  },
  {
   "cell_type": "code",
   "execution_count": 20,
   "metadata": {},
   "outputs": [
    {
     "name": "stdout",
     "output_type": "stream",
     "text": [
      "A=[[1 2 3]\n",
      " [4 5 6]\n",
      " [7 8 9]]\n",
      "Q=[[-0.12309149  0.90453403  0.40824829]\n",
      " [-0.49236596  0.30151134 -0.81649658]\n",
      " [-0.86164044 -0.30151134  0.40824829]]\n",
      "R=[[-8.12403840e+00 -9.60113630e+00 -1.10782342e+01]\n",
      " [ 0.00000000e+00  9.04534034e-01  1.80906807e+00]\n",
      " [ 0.00000000e+00  0.00000000e+00 -1.11164740e-15]]\n",
      "[[1. 2. 3.]\n",
      " [4. 5. 6.]\n",
      " [7. 8. 9.]]\n",
      "[[ 1.00000000e+00 -5.26517217e-16 -2.55176183e-16]\n",
      " [-5.26517217e-16  1.00000000e+00  3.37757775e-16]\n",
      " [-2.55176183e-16  3.37757775e-16  1.00000000e+00]]\n"
     ]
    }
   ],
   "source": [
    "Q, R = np.linalg.qr(A)\n",
    "print(f'A={A}')\n",
    "print(f'Q={Q}')\n",
    "print(f'R={R}')\n",
    "print(np.dot(Q, R))\n",
    "print(np.dot(np.transpose(Q), Q))"
   ]
  },
  {
   "cell_type": "code",
   "execution_count": 21,
   "metadata": {},
   "outputs": [
    {
     "name": "stdout",
     "output_type": "stream",
     "text": [
      "[[-8.1240384  -9.6011363 ]\n",
      " [ 0.          0.90453403]]\n",
      "[[-1.21860576e+01]\n",
      " [ 8.54871729e-15]]\n",
      "Одно из псевдорешений вырожденной системы [1.50000000e+00 9.45096256e-15 0.00000000e+00]\n"
     ]
    }
   ],
   "source": [
    "R1 = R[:2,:2]\n",
    "print(R1)\n",
    "B1 = np.dot(Q.T, B)[:2]\n",
    "print(B1)\n",
    "X1 = np.linalg.solve(R1, B1)\n",
    "X = np.append(X1,0)\n",
    "print(f'Одно из псевдорешений вырожденной системы {X}')"
   ]
  },
  {
   "cell_type": "code",
   "execution_count": 22,
   "metadata": {},
   "outputs": [
    {
     "data": {
      "text/plain": [
       "1.4999999999999893"
      ]
     },
     "execution_count": 22,
     "metadata": {},
     "output_type": "execute_result"
    }
   ],
   "source": [
    "np.linalg.norm(X)"
   ]
  },
  {
   "cell_type": "code",
   "execution_count": 23,
   "metadata": {},
   "outputs": [
    {
     "data": {
      "text/plain": [
       "15.732132722552267"
      ]
     },
     "execution_count": 23,
     "metadata": {},
     "output_type": "execute_result"
    }
   ],
   "source": [
    "np.linalg.norm(np.dot(A,X) - B)"
   ]
  },
  {
   "cell_type": "code",
   "execution_count": 24,
   "metadata": {},
   "outputs": [
    {
     "data": {
      "text/plain": [
       "array([ 1.5,  6. , 10.5])"
      ]
     },
     "execution_count": 24,
     "metadata": {},
     "output_type": "execute_result"
    }
   ],
   "source": [
    "np.dot(A,X)"
   ]
  },
  {
   "cell_type": "code",
   "execution_count": null,
   "metadata": {},
   "outputs": [],
   "source": []
  }
 ],
 "metadata": {
  "kernelspec": {
   "display_name": "Python 3",
   "language": "python",
   "name": "python3"
  },
  "language_info": {
   "codemirror_mode": {
    "name": "ipython",
    "version": 3
   },
   "file_extension": ".py",
   "mimetype": "text/x-python",
   "name": "python",
   "nbconvert_exporter": "python",
   "pygments_lexer": "ipython3",
   "version": "3.7.1"
  }
 },
 "nbformat": 4,
 "nbformat_minor": 2
}
